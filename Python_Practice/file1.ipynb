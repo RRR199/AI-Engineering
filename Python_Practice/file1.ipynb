{
 "cells": [
  {
   "cell_type": "code",
   "execution_count": 1,
   "id": "aeb61d72",
   "metadata": {},
   "outputs": [
    {
     "name": "stdout",
     "output_type": "stream",
     "text": [
      "Array: [ 1  2  3  4  5  6  7  8  9 10 11 12 13 14 15 16 17 18 19 20]\n",
      "Mean: 10.5\n",
      "Max: 20\n",
      "Min: 1\n",
      "Square_of_all_num: [  1   4   9  16  25  36  49  64  81 100 121 144 169 196 225 256 289 324\n",
      " 361 400]\n"
     ]
    }
   ],
   "source": [
    "import numpy as np\n",
    "\n",
    "arr = np.array([1,2,3,4,5,6,7,8,9,10,11,12,13,14,15,16,17,18,19,20])\n",
    "print(\"Array:\", arr)\n",
    "\n",
    "print(\"Mean:\", np.mean(arr))\n",
    "print(\"Max:\", np.max(arr))\n",
    "print(\"Min:\", np.min(arr))\n",
    "print(\"Square_of_all_num:\", np.square(arr))\n"
   ]
  },
  {
   "cell_type": "code",
   "execution_count": 4,
   "id": "df3a484d",
   "metadata": {},
   "outputs": [
    {
     "name": "stdout",
     "output_type": "stream",
     "text": [
      "      Name  Age       Hobby\n",
      "0  Ruthwik    1     Editing\n",
      "1   Harsha    2      Baking\n",
      "2  Sravani    3     Roaming\n",
      "3  Revanth    4     Trading\n",
      "4   Nithin    5  Cricketing\n",
      "      Name  Age    Hobby\n",
      "0  Ruthwik    1  Editing\n"
     ]
    }
   ],
   "source": [
    "import pandas as pd\n",
    "\n",
    "data = {\n",
    "    \"Name\": [\"Ruthwik\", \"Harsha\", \"Sravani\", \"Revanth\", \"Nithin\"],\n",
    "    \"Age\": [1,2,3,4,5],\n",
    "    \"Hobby\": [\"Editing\", \"Baking\", \"Roaming\", \"Trading\", \"Cricketing\"]\n",
    "}\n",
    "\n",
    "df =pd.DataFrame(data)\n",
    "print(df)\n",
    "\n",
    "print(df[df[\"Hobby\"]== \"Editing\"])\n"
   ]
  }
 ],
 "metadata": {
  "kernelspec": {
   "display_name": ".venv",
   "language": "python",
   "name": "python3"
  },
  "language_info": {
   "codemirror_mode": {
    "name": "ipython",
    "version": 3
   },
   "file_extension": ".py",
   "mimetype": "text/x-python",
   "name": "python",
   "nbconvert_exporter": "python",
   "pygments_lexer": "ipython3",
   "version": "3.13.4"
  }
 },
 "nbformat": 4,
 "nbformat_minor": 5
}
