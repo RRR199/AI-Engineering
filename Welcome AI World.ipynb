{
 "cells": [
  {
   "cell_type": "code",
   "execution_count": 1,
   "id": "088ea37e",
   "metadata": {},
   "outputs": [
    {
     "name": "stdout",
     "output_type": "stream",
     "text": [
      "Hello! AI World, This is Ruthwik\n"
     ]
    }
   ],
   "source": [
    "\n",
    "\n",
    "age = 25\n",
    "height =5.11\n",
    "name = \"Ruthwik\"\n",
    "\n",
    "print(\"Hello! AI World, This is\", name)"
   ]
  },
  {
   "cell_type": "code",
   "execution_count": 3,
   "id": "f61e86b0",
   "metadata": {},
   "outputs": [
    {
     "name": "stdout",
     "output_type": "stream",
     "text": [
      "I want Apple\n",
      "I want Banana\n",
      "I want Mango\n"
     ]
    }
   ],
   "source": [
    "fruits = [\"Apple\", \"Banana\", \"Mango\"]\n",
    "\n",
    "for fruit in fruits:\n",
    "    print(\"I want\", fruit)"
   ]
  },
  {
   "cell_type": "code",
   "execution_count": 2,
   "id": "f7fe865a",
   "metadata": {},
   "outputs": [],
   "source": [
    "import pandas as pd\n",
    "import numpy as np\n"
   ]
  }
 ],
 "metadata": {
  "kernelspec": {
   "display_name": ".venv",
   "language": "python",
   "name": "python3"
  },
  "language_info": {
   "codemirror_mode": {
    "name": "ipython",
    "version": 3
   },
   "file_extension": ".py",
   "mimetype": "text/x-python",
   "name": "python",
   "nbconvert_exporter": "python",
   "pygments_lexer": "ipython3",
   "version": "3.13.4"
  }
 },
 "nbformat": 4,
 "nbformat_minor": 5
}
